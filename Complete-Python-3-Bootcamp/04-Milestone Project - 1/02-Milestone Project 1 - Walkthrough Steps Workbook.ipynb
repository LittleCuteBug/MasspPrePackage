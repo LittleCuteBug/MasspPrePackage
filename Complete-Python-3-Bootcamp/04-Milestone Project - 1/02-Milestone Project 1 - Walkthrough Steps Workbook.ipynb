{
 "cells": [
  {
   "cell_type": "markdown",
   "metadata": {},
   "source": [
    "# Milestone Project 1: Walkthrough Steps Workbook\n",
    "\n",
    "Below is a set of steps for you to follow to try to create the Tic Tac Toe Milestone Project game!"
   ]
  },
  {
   "cell_type": "markdown",
   "metadata": {},
   "source": [
    "#### Some suggested tools before you get started:\n",
    "To take input from a user:\n",
    "\n",
    "    player1 = input(\"Please pick a marker 'X' or 'O'\")\n",
    "    \n",
    "Note that input() takes in a string. If you need an integer value, use\n",
    "\n",
    "    position = int(input('Please enter a number'))\n",
    "    \n",
    "<br>To clear the screen between moves:\n",
    "\n",
    "    from IPython.display import clear_output\n",
    "    clear_output()\n",
    "    \n",
    "Note that clear_output() will only work in jupyter. To clear the screen in other IDEs, consider:\n",
    "\n",
    "    print('\\n'*100)\n",
    "    \n",
    "This scrolls the previous board up out of view. Now on to the program!"
   ]
  },
  {
   "cell_type": "markdown",
   "metadata": {},
   "source": [
    "**Step 1: Write a function that can print out a board. Set up your board as a list, where each index 1-9 corresponds with a number on a number pad, so you get a 3 by 3 board representation.**"
   ]
  },
  {
   "cell_type": "code",
   "execution_count": 2,
   "metadata": {},
   "outputs": [],
   "source": [
    "from IPython.display import clear_output\n",
    "from random import randint\n",
    "Player1 = ' '\n",
    "Player2 = ' '\n",
    "Playfirst = 0\n",
    "board = {}\n",
    "def display_board(board):\n",
    "    print (board[1]+'|'+board[2]+'|'+board[3])\n",
    "    print (\"-----\")\n",
    "    print (board[4]+'|'+board[5]+'|'+board[6])\n",
    "    print (\"-----\")\n",
    "    print (board[7]+'|'+board[8]+'|'+board[9])\n",
    "\n"
   ]
  },
  {
   "cell_type": "markdown",
   "metadata": {},
   "source": [
    "**TEST Step 1:** run your function on a test version of the board list, and make adjustments as necessary"
   ]
  },
  {
   "cell_type": "code",
   "execution_count": 3,
   "metadata": {},
   "outputs": [
    {
     "name": "stdout",
     "output_type": "stream",
     "text": [
      "X|O| \n",
      "-----\n",
      "O|X|O\n",
      "-----\n",
      "X|O|X\n"
     ]
    }
   ],
   "source": [
    "test_board = ['#','X','O',' ','O','X','O','X','O','X']\n",
    "display_board(test_board)\n"
   ]
  },
  {
   "cell_type": "markdown",
   "metadata": {},
   "source": [
    "**Step 2: Write a function that can take in a player input and assign their marker as 'X' or 'O'. Think about using *while* loops to continually ask until you get a correct answer.**"
   ]
  },
  {
   "cell_type": "code",
   "execution_count": 4,
   "metadata": {},
   "outputs": [],
   "source": [
    "\n",
    "def player_input():\n",
    "    global Player1\n",
    "    global Player2\n",
    "    Flag = True\n",
    "    while True:\n",
    "        Player1 = input(\"Player 1, which do you want, X or O?\").upper()\n",
    "        if Player1 == 'X':\n",
    "            Player2 = 'O'\n",
    "            break\n",
    "        elif Player1 == 'O':\n",
    "            Player2 = 'X'\n",
    "            break\n",
    "        else:\n",
    "            print(\"Undefined Input\")\n",
    "    \n",
    "    \n",
    "    "
   ]
  },
  {
   "cell_type": "markdown",
   "metadata": {},
   "source": [
    "**TEST Step 2:** run the function to make sure it returns the desired output"
   ]
  },
  {
   "cell_type": "code",
   "execution_count": 6,
   "metadata": {},
   "outputs": [
    {
     "name": "stdout",
     "output_type": "stream",
     "text": [
      "Player 1, which do you want, X or O?O\n"
     ]
    }
   ],
   "source": [
    "player_input()"
   ]
  },
  {
   "cell_type": "markdown",
   "metadata": {},
   "source": [
    "**Step 3: Write a function that takes in the board list object, a marker ('X' or 'O'), and a desired position (number 1-9) and assigns it to the board.**"
   ]
  },
  {
   "cell_type": "code",
   "execution_count": 7,
   "metadata": {},
   "outputs": [],
   "source": [
    "def place_marker(board, marker, position):\n",
    "    board[position]= marker\n",
    "    return board\n"
   ]
  },
  {
   "cell_type": "markdown",
   "metadata": {},
   "source": [
    "**TEST Step 3:** run the place marker function using test parameters and display the modified board"
   ]
  },
  {
   "cell_type": "code",
   "execution_count": 8,
   "metadata": {},
   "outputs": [
    {
     "name": "stdout",
     "output_type": "stream",
     "text": [
      "X|O| \n",
      "-----\n",
      "O|X|O\n",
      "-----\n",
      "X|$|X\n"
     ]
    }
   ],
   "source": [
    "place_marker(test_board,'$',8)\n",
    "display_board(test_board)"
   ]
  },
  {
   "cell_type": "markdown",
   "metadata": {},
   "source": [
    "**Step 4: Write a function that takes in a board and a mark (X or O) and then checks to see if that mark has won. **"
   ]
  },
  {
   "cell_type": "code",
   "execution_count": 9,
   "metadata": {},
   "outputs": [],
   "source": [
    "\n",
    "def win_check(board, mark):\n",
    "\t#print(board)\n",
    "\t#print(mark)\n",
    "\tans = False\n",
    "\tans = ans or (board[1]==board[2]==board[3]==mark)\n",
    "\tans = ans or (board[4]==board[5]==board[6]==mark)\n",
    "\tans = ans or (board[7]==board[8]==board[9]==mark)\n",
    "\tans = ans or (board[1]==board[4]==board[7]==mark)\n",
    "\tans = ans or (board[2]==board[5]==board[8]==mark)\n",
    "\tans = ans or (board[3]==board[6]==board[9]==mark)\n",
    "\tans = ans or (board[1]==board[5]==board[9]==mark)\n",
    "\tans = ans or (board[3]==board[5]==board[7]==mark)\n",
    "\treturn ans\n"
   ]
  },
  {
   "cell_type": "markdown",
   "metadata": {},
   "source": [
    "**TEST Step 4:** run the win_check function against our test_board - it should return True"
   ]
  },
  {
   "cell_type": "code",
   "execution_count": 10,
   "metadata": {},
   "outputs": [
    {
     "data": {
      "text/plain": [
       "True"
      ]
     },
     "execution_count": 10,
     "metadata": {},
     "output_type": "execute_result"
    }
   ],
   "source": [
    "win_check(test_board,'X')"
   ]
  },
  {
   "cell_type": "markdown",
   "metadata": {},
   "source": [
    "**Step 5: Write a function that uses the random module to randomly decide which player goes first. You may want to lookup random.randint() Return a string of which player went first.**"
   ]
  },
  {
   "cell_type": "code",
   "execution_count": 11,
   "metadata": {},
   "outputs": [],
   "source": [
    "\n",
    "\n",
    "def choose_first():\n",
    "    return randint(1,2)\n",
    "\n",
    "    "
   ]
  },
  {
   "cell_type": "markdown",
   "metadata": {},
   "source": [
    "**Step 6: Write a function that returns a boolean indicating whether a space on the board is freely available.**"
   ]
  },
  {
   "cell_type": "code",
   "execution_count": 12,
   "metadata": {},
   "outputs": [],
   "source": [
    "def space_check(board, position):\n",
    "    return board[position]==' '"
   ]
  },
  {
   "cell_type": "markdown",
   "metadata": {},
   "source": [
    "**Step 7: Write a function that checks if the board is full and returns a boolean value. True if full, False otherwise.**"
   ]
  },
  {
   "cell_type": "code",
   "execution_count": 13,
   "metadata": {},
   "outputs": [],
   "source": [
    "def full_board_check(board):\n",
    "    \n",
    "    return ' ' in board"
   ]
  },
  {
   "cell_type": "markdown",
   "metadata": {},
   "source": [
    "**Step 8: Write a function that asks for a player's next position (as a number 1-9) and then uses the function from step 6 to check if it's a free position. If it is, then return the position for later use.**"
   ]
  },
  {
   "cell_type": "code",
   "execution_count": 14,
   "metadata": {},
   "outputs": [],
   "source": [
    "def player_choice(board):\n",
    "    while True:\n",
    "        nextstep = input(\"Choose your next position (1-9)\")\n",
    "        if nextstep in \"123456789\":\n",
    "        \tnextstep = int(nextstep)\n",
    "        \tif space_check(board,nextstep):\n",
    "        \t\treturn nextstep\n",
    "        \telse:\n",
    "        \t\tprint(\"position {} is unavailable, please choose another position.\".format(nextstep))\n",
    "        else:\n",
    "        \tprint(\"Wrong input\")\n"
   ]
  },
  {
   "cell_type": "markdown",
   "metadata": {},
   "source": [
    "**Step 9: Write a function that asks the player if they want to play again and returns a boolean True if they do want to play again.**"
   ]
  },
  {
   "cell_type": "code",
   "execution_count": 15,
   "metadata": {},
   "outputs": [],
   "source": [
    "def replay():\n",
    "    while True:\n",
    "        Ans = input(\"Do you want to replay? (Y-N)\")\n",
    "        if Ans=='Y':\n",
    "            return True\n",
    "        elif Ans == 'N':\n",
    "            return False\n",
    "        else:\n",
    "            pass"
   ]
  },
  {
   "cell_type": "code",
   "execution_count": 16,
   "metadata": {},
   "outputs": [
    {
     "name": "stdout",
     "output_type": "stream",
     "text": [
      "Do you want to replay? (Y-N)Y\n"
     ]
    },
    {
     "data": {
      "text/plain": [
       "True"
      ]
     },
     "execution_count": 16,
     "metadata": {},
     "output_type": "execute_result"
    }
   ],
   "source": [
    "replay()"
   ]
  },
  {
   "cell_type": "markdown",
   "metadata": {
    "collapsed": true
   },
   "source": [
    "**Step 10: Here comes the hard part! Use while loops and the functions you've made to run the game!**"
   ]
  },
  {
   "cell_type": "code",
   "execution_count": 17,
   "metadata": {},
   "outputs": [],
   "source": [
    "def Init ():\n",
    "\tclear_output()\n",
    "\tprint(\"Player1 has choose: \"+Player1)    \n",
    "\tprint(\"Player2 has choose: \"+Player2)\t\t\n",
    "\tprint(\"Player {} play first\".format(Playfirst))\n",
    "\tdisplay_board(board)\n"
   ]
  },
  {
   "cell_type": "code",
   "execution_count": 18,
   "metadata": {},
   "outputs": [
    {
     "name": "stdout",
     "output_type": "stream",
     "text": [
      "Player1 has choose: X\n",
      "Player2 has choose: O\n",
      "Player 2 play first\n",
      "O|X|O\n",
      "-----\n",
      "X|O|X\n",
      "-----\n",
      "O| | \n",
      "Player2 win\n",
      "Do you want to replay? (Y-N)8\n",
      "Do you want to replay? (Y-N)N\n"
     ]
    }
   ],
   "source": [
    "print('Welcome to Tic Tac Toe!')\n",
    "\n",
    "#while True:\n",
    "#Set the game up here\n",
    "\n",
    "while True:\n",
    "\tboard = ['#']+[' ']*9\n",
    "\tclear_output()\n",
    "\tplayer_input()\n",
    "\tTurn = choose_first()\n",
    "\tPlayfirst = Turn\n",
    "\twhile full_board_check(board):\n",
    "\t\tInit()\n",
    "\t\tif Turn == 1:\n",
    "\t\t\tprint(\"Player1 turn\")\n",
    "\t\t\tposition = player_choice(board)\n",
    "\t\t\tif space_check(board,position):\n",
    "\t\t\t\tboard = place_marker(board,Player1,position)\n",
    "\t\t\tTurn = 2\n",
    "\t\t\tif win_check(board,Player1):\n",
    "\t\t\t\tInit()\n",
    "\t\t\t\tprint (\"Player1 win\")\n",
    "\t\t\t\tbreak\n",
    "\t\telse:\n",
    "\t\t\tprint(\"Player2 turn\")\n",
    "\t\t\tposition = player_choice(board)\n",
    "\t\t\tif space_check(board,position):\n",
    "\t\t\t\tboard = place_marker(board,Player2,position)\n",
    "\t\t\tTurn = 1\n",
    "\t\t\tif win_check(board,Player2):\n",
    "\t\t\t\tInit()\n",
    "\t\t\t\tprint (\"Player2 win\")\n",
    "\t\t\t\tbreak\n",
    "\telse:\n",
    "\t\tInit()\n",
    "\t\tprint(\"Draw\")\n",
    "\tif not replay():\n",
    "\t\tbreak"
   ]
  },
  {
   "cell_type": "markdown",
   "metadata": {
    "collapsed": true
   },
   "source": [
    "## Good Job!"
   ]
  }
 ],
 "metadata": {
  "kernelspec": {
   "display_name": "Python 3",
   "language": "python",
   "name": "python3"
  },
  "language_info": {
   "codemirror_mode": {
    "name": "ipython",
    "version": 3
   },
   "file_extension": ".py",
   "mimetype": "text/x-python",
   "name": "python",
   "nbconvert_exporter": "python",
   "pygments_lexer": "ipython3",
   "version": "3.7.1"
  }
 },
 "nbformat": 4,
 "nbformat_minor": 1
}
