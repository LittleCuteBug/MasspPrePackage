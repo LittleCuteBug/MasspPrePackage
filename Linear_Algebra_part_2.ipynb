{
 "cells": [
  {
   "cell_type": "markdown",
   "metadata": {},
   "source": [
    "# Bài giảng về Đại số tuyến tính - Phần 2\n",
    "## MaSSP 2018, Computer Science"
   ]
  },
  {
   "cell_type": "markdown",
   "metadata": {},
   "source": [
    "Trong phần 1, các bạn đã học cách khởi tạo vector và ma trận cũng như các tính toán trên ma trận. Notebook này sẽ thiên về lab, bài tập, và giới thiệu thêm các hàm, phép toán thông dụng với vector, ma trận, và giữa vector và ma trận với nhau.\n",
    "* Vector\n",
    "    - các cách khởi tạo thường dùng: arange, linspace, random \n",
    "    - norm \n",
    "    - tính min, max, mean, sum\n",
    "* Ma trận\n",
    "    - norm\n",
    "    - tính min, max, mean, sum\n",
    "* Các phép toán giữa vector và ma trận\n",
    "    - reshape\n",
    "    - broadcasting "
   ]
  },
  {
   "cell_type": "markdown",
   "metadata": {},
   "source": [
    "# 1. Các phép toán với vector"
   ]
  },
  {
   "cell_type": "markdown",
   "metadata": {},
   "source": [
    "## 1. 1 Các cách khởi tạo vector đặc biệt\n",
    "Trước hết chúng ta hãy ôn lại cách khởi tạo một vector từ `list` hoặc `tuple` của Python bằng hàm array của numpy:"
   ]
  },
  {
   "cell_type": "code",
   "execution_count": 2,
   "metadata": {},
   "outputs": [
    {
     "name": "stdout",
     "output_type": "stream",
     "text": [
      "[1.5 0.  0.8]\n"
     ]
    }
   ],
   "source": [
    "import numpy as np\n",
    "\n",
    "# from 1-dimesional array\n",
    "a = np.array([1.5, 0.0, 0.8])\n",
    "print(a)"
   ]
  },
  {
   "cell_type": "markdown",
   "metadata": {},
   "source": [
    "Trong nhiều trường hợp, chúng ta cần tạo những vector đặc biệt, ví dụ vector chứa những phần tử có giá trị tăng dần hoặc ngẫu nhiên. Các hàm [arange](https://docs.scipy.org/doc/numpy-dev/reference/generated/numpy.arange.html#numpy.arange), [linspace](https://docs.scipy.org/doc/numpy-dev/reference/generated/numpy.linspace.html#numpy.linspace), và [rand](https://docs.scipy.org/doc/numpy-1.14.0/reference/generated/numpy.random.rand.html#numpy.random.rand) giúp ta khởi tạo được những vector như vậy."
   ]
  },
  {
   "cell_type": "markdown",
   "metadata": {},
   "source": [
    "Hàm arange cho phép tạo những dãy tăng dần hay giảm dần, với đầu vào là giá trị bắt đầu của dãy, giá trị chặn trên (exclusive) của dãy, và bước nhảy là một tự nhiên."
   ]
  },
  {
   "cell_type": "code",
   "execution_count": 3,
   "metadata": {},
   "outputs": [
    {
     "name": "stdout",
     "output_type": "stream",
     "text": [
      "[10 11 12 13 14]\n",
      "[11.  10.8 10.6 10.4 10.2]\n",
      "[0 1 2 3 4 5 6 7 8 9]\n"
     ]
    }
   ],
   "source": [
    "# with integer step\n",
    "a = np.arange(10, 15, 1)\n",
    "print(a)\n",
    "# [10, 11, 12, 13, 14]\n",
    "\n",
    "b = np.arange(11, 10, -0.2)\n",
    "print(b)\n",
    "# [ 11.   10.8  10.6  10.4  10.2]\n",
    "\n",
    "# hàm arange tự hiểu 10 là chặn trên, 0 là giá trị bắt đầu, và bước nhảy là 1 trong trường hợp này \n",
    "c = np.arange(10)\n",
    "print(c)\n",
    "# [0 1 2 3 4 5 6 7 8 9]"
   ]
  },
  {
   "cell_type": "markdown",
   "metadata": {},
   "source": [
    "Khi ta biết giá trị bắt đầu và giá trị kết thúc, cũng như số phần tử muốn có, ta sử dụng hàm linspace."
   ]
  },
  {
   "cell_type": "code",
   "execution_count": 4,
   "metadata": {},
   "outputs": [
    {
     "name": "stdout",
     "output_type": "stream",
     "text": [
      "[2.   2.25 2.5  2.75 3.  ]\n"
     ]
    }
   ],
   "source": [
    "# with non-integer step\n",
    "a = np.linspace(2.0, 3.0, num=5)\n",
    "print(a)\n",
    "# [ 2.  ,  2.25,  2.5 ,  2.75,  3.  ]"
   ]
  },
  {
   "cell_type": "markdown",
   "metadata": {},
   "source": [
    "Yếu tố ngẫu nhiên có thể được tìm thấy trong nhiều hiện tượng, sự việc trong khoa học và đời sống. Một ví dụ thường gặp đó là khi gieo xúc sắc 6 mặt, kết quả thu được mỗi lần gieo là ngẫu nhiên, có thể thu được mặt 1, 2, 3, 4, 5, hay 6, và xác suất thu được các mặt là như nhau (với điều kiện xúc sắc bình thường!).\n",
    "\n",
    "Trong khoa học, khi đo lường một đại lượng vật lý nào đó, ví dụ như hiệu điện thế, ta luôn đối mặt với những sai số ngẫu nhiên đến từ môi trường, khó có thể khắc phục được. Để tính đến những yếu tố nhiễu đó, ta thường coi chúng đến từ một `normal distribution`, kí hiệu là $N(\\mu, \\sigma^2)$. Phần này sẽ được giải thích trong bài giảng về xác suất, thống kê tiếp theo, nên lúc này, các bạn chỉ cần làm quen sơ qua các hàm rand và randn trong numpy thôi nhé."
   ]
  },
  {
   "cell_type": "code",
   "execution_count": 10,
   "metadata": {},
   "outputs": [
    {
     "name": "stdout",
     "output_type": "stream",
     "text": [
      "[[0.43337105 0.78259642]\n",
      " [0.72161202 0.17031522]\n",
      " [0.537043   0.03242111]]\n",
      "[[-0.55777851 -0.71413973]\n",
      " [-0.88380287 -0.33973767]\n",
      " [ 1.55593069  1.74731288]]\n",
      "[[-0.13405305  0.71023814]\n",
      " [ 2.11275871 -1.54980133]\n",
      " [ 3.78636585 -0.05374747]]\n"
     ]
    }
   ],
   "source": [
    "# from uniform distribution\n",
    "a = np.random.rand(3,2)\n",
    "print(a)\n",
    "# [[ 0.65539839  0.31324931]\n",
    "#  [ 0.49746522  0.40978874]\n",
    "#  [ 0.58603861  0.85287283]]\n",
    "\n",
    "# from standard normal distribution\n",
    "a = np.random.randn(3,2)\n",
    "print(a)\n",
    "# [[ 0.71564826,  0.78572601]\n",
    "#  [-0.04637402, -0.58368628]\n",
    "#  [-1.25782822,  1.00658686]]\n",
    "\n",
    "# with N(5, 4)\n",
    "b =  2 * np.random.randn(3,2)\n",
    "print(b)\n",
    "# [[ 3.53328499  5.15966328]\n",
    "#  [ 3.38333745  4.522973  ]\n",
    "#  [ 2.6586514   4.8483927 ]]"
   ]
  },
  {
   "cell_type": "markdown",
   "metadata": {},
   "source": [
    "__Checkpoint 1__: Quay trở lại với bài tập vẽ đồ thị trong video giới thiệu về iPython notebook mà MaSSP đã giới thiệu với các bạn, chúng ta sẽ ôn lại các dùng arange, linspace, và rand để vẽ lại đồ thị biến thiên hiệu điện thế với thời gian có kèm yếu tố nhiễu.\n",
    "$$V_{(t)} = V_0sin(2\\pi*t)$$\n",
    "$$V_0 = 170 V$$\n",
    "$$t = 0..2 s$$\n",
    "![](images/voltage.png)\n",
    "\n",
    "1. Hãy sử dụng hàm arange hoặc linspace để thiết lập $ts$ và $Vs$, và vẽ đồ thị như đã làm trong video.\n",
    "2. Giả sử trong mỗi lần đo, hiệu điện thế đều bị lệch đi một giá trị $\\epsilon$ ngẫu nhiên trong khoảng từ $-0.75V$ tới $+0.75V$. Hãy tính lại $Vs$ và vẽ lại đồ thị.\n",
    "\n",
    "$$V_{(t)} = V_0sin(2\\pi*t) + \\epsilon$$\n"
   ]
  },
  {
   "cell_type": "code",
   "execution_count": 48,
   "metadata": {},
   "outputs": [
    {
     "data": {
      "image/png": "[encoded data removed]",
      "text/plain": [
       "<Figure size 432x288 with 1 Axes>"
      ]
     },
     "metadata": {
      "needs_background": "light"
     },
     "output_type": "display_data"
    }
   ],
   "source": [
    "import matplotlib.pyplot as plt\n",
    "t = np.linspace(0,2,100)\n",
    "Vo=170\n",
    "Vt=Vo*np.sin(2*np.pi*t)\n",
    "e = np.random.rand(100)*1.5-0.75 \n",
    "plt.plot(t,Vt+e)\n",
    "plt.title(\"Biến thiên hiệu điện thế theo thời gian\")\n",
    "plt.ylabel(\"Hiệu điện thế (V)\")\n",
    "plt.xlabel(\"Thời gian (s)\")\n",
    "plt.grid(True)\n",
    "plt.show()"
   ]
  },
  {
   "cell_type": "markdown",
   "metadata": {},
   "source": [
    "## 1.2 Norm\n",
    "Trong <span style=\"color:blue\">không gian  vector</span>, `norm` là một công cụ để đo độ dài của  vector hay nói cách khác là đo khoảng cách giữa 2 điểm trong không gian.\n",
    "Đáng lẽ ta phải tìm hiểu không gian  vector là gì các tính chất của nó ra sao để có thể hiểu rõ được độ dài của các  vector và quan hệ của chúng ra sao,\n",
    "nhưng tạm thời lúc này bạn cứ hiểu nôm na nó là một tập chứa các  vector và khoảng cách 2 điểm như một đường bay nối thẳng 2 điểm đó như ở không gian 2 chiều nhé.\n",
    "Nếu có dịp tôi sẽ trình bày kĩ hơn về không gian  vector sau.\n",
    "\n",
    "Thường một norm cấp $ p $ (kí hiệu: $ L^p $) hay sử dụng trong học máy được mô tả bằng công thức:\n",
    "\n",
    "$$ |x|_p = \\Bigg(\\sum_i{|x_i|^p}\\Bigg)^ \\frac{1}{p} $$\n",
    "\n",
    "Trong đó $ p \\in \\mathbb{R} $ và $ p \\ge 1 $, còn $ x_i $ là phẩn tử thứ $ i $ của  vector $x$.\n",
    "Dễ nhận thấy rằng một norm không thể nào nhỏ hơn $ 0 $ được, vì làm gì có khoảng cách nào âm đúng không.\n",
    "\n",
    "Ví dụ trong <span style=\"color:blue\">không gian Euclide $n$ chiều</span>, ta có độ dài của  vector chính là một norm cấp 2 ($ L^2 $): $\\displaystyle |x|_2 = \\sqrt{ \\sum _{i=1}^n{x_i^2} } $.\n",
    "Trong đó $ x_i $ là phần tử thứ $ i $ của  vector, hay nói cách khác là tọa độ trên trục thứ $ i $ tương ứng của  vector trong không gian.\n",
    "\n",
    "<!---Một norm cấp 2 thường được kí hiệu đơn giản là $ |x| $ chứ không phải là $ |x|_2 $ nhé.--->\n",
    "Trong học máy, ta mặc định $|x|$ là $|x|_2$ do chúng rất hay được sử dụng, nên phần định danh dưới được bỏ đi cho tiện làm việc.\n",
    "Nếu để ý sẽ thấy, với công thức trên ta có thể dễ dàng tính được $ L^2 $-norm của một vector bằng phép nhân vô hướng của chúng: $|x| = \\sqrt{ x^\\intercal x}$.\n",
    "\n",
    "Đôi lúc ta cũng sử dụng cả norm cấp 1 để đo khoảng cách giữa các phần tử tại vị trí 0 và vì trị rất gần với 0 thay vì norm cấp 2.\n",
    "Vì norm cấp 2 lấy bình phương từng khoảng cách lên sẽ cho số rất nhỏ do khoảng cách giữa chúng đã rất nhỏ rồi, việc này dẫn tới sự triệt tiêu khoảng cách khi tính toán.\n",
    "Những lúc này ta sẽ sử dụng $ L ^ 1$ để tính toán, vì nó chỉ lấy trị tuyệt đối khoảng cách: $\\displaystyle |x|_1 = \\sum_i{|x_i|} $.\n",
    "\n",
    "Cũng có khi ta phải dùng giả norm bậc 0 ($ L^0 $) để đo độ dài của  vector khi nó quá bé để có thể thoải mái tính toán với các norm khác.\n",
    "Lưu ý, ta không thực sự có $ L^0 $; ta hiểu ngầm với nhau rằng chúng là giả norm. $ L^0 $ được tính đơn giản bằng cách đếm số lượng các phần tử khác 0 của  vector.\n"
   ]
  },
  {
   "cell_type": "code",
   "execution_count": 12,
   "metadata": {},
   "outputs": [
    {
     "name": "stdout",
     "output_type": "stream",
     "text": [
      "[3 4]\n",
      "2.0\n",
      "7.0\n",
      "5.0\n"
     ]
    }
   ],
   "source": [
    "# cho vector v = [3 4]\n",
    "v = np.array([3, 4])\n",
    "print(v)\n",
    "\n",
    "# Tính L0\n",
    "print(np.linalg.norm(v, ord=0))\n",
    "# 2.0 bằng số phần tử khác 0 của v\n",
    "\n",
    "# Tính L1\n",
    "print(np.linalg.norm(v, ord=1))\n",
    "# 7.0 = 3 + 4\n",
    "\n",
    "# Tính L2\n",
    "print(np.linalg.norm(v))  # ord mặc định của hàm norm là 2\n",
    "# 5.0 = sqrt(3**2 + 4**2)"
   ]
  },
  {
   "cell_type": "markdown",
   "metadata": {},
   "source": [
    "__Checkpoint 2__: Hãy chọn một giá trị khác cho bậc của norm và tính độ dài norm của $v$ theo bậc mới. Bạn thử kiểm tra xem kết quả thu được khi tính tay có giống với khi dùng hàm $np.linalg.norm$ không?"
   ]
  },
  {
   "cell_type": "markdown",
   "metadata": {},
   "source": [
    "Một dạng norm khác cũng được sử dụng phổ biến trong học máy là $ L^\\infty$ hay còn được gọi là norm lớn nhất (`max norm`) được đo bằng cách lấy trị tuyệt đối của phần tử lớn nhất: $\\displaystyle |x|_\\infty = \\max_i{|x_i|} $.\n",
    "\n",
    "![p-norm](../HungNgo/Math/img/p-Norm.png)\n",
    "Hình minh hoạ: vòng tròn đơn vị (`unit circle`), là tập các vectors có norm bằng 1, cho các giá trị $p$ khác nhau. Ngồn: [Wikimedia](https://commons.wikimedia.org/wiki/File:Norm-vergleich.gif)."
   ]
  },
  {
   "cell_type": "markdown",
   "metadata": {},
   "source": [
    "## 1.3 Tính min, max, mean, và sum \n",
    "Các hàm này dùng để tính giá trị nhỏ nhất, lớn nhất, trung bình cộng, và tổng của các phần tử trong vector."
   ]
  },
  {
   "cell_type": "code",
   "execution_count": 49,
   "metadata": {},
   "outputs": [
    {
     "name": "stdout",
     "output_type": "stream",
     "text": [
      "[0 1 2 3 4 5]\n",
      "0\n",
      "5\n",
      "2.5\n",
      "15\n"
     ]
    }
   ],
   "source": [
    "v = np.arange(6)\n",
    "print(v)\n",
    "# [0 1 2 3 4 5]\n",
    "\n",
    "print(np.min(v))\n",
    "# 0\n",
    "\n",
    "print(np.max(v))\n",
    "# 5\n",
    "\n",
    "print(np.mean(v))\n",
    "# 2.5\n",
    "\n",
    "print(np.sum(v))\n",
    "# 15"
   ]
  },
  {
   "cell_type": "markdown",
   "metadata": {},
   "source": [
    "Đặc biệt, chúng ta có thể dùng hàm `argmin` và `argmax` để tìm ra vị trí của phần tử nhỏ nhất hay lớn nhất trong vector."
   ]
  },
  {
   "cell_type": "code",
   "execution_count": 4,
   "metadata": {},
   "outputs": [
    {
     "name": "stdout",
     "output_type": "stream",
     "text": [
      "0\n",
      "5\n"
     ]
    }
   ],
   "source": [
    "print(np.argmin(v))\n",
    "# 0\n",
    "\n",
    "print(np.argmax(v))\n",
    "# 5"
   ]
  },
  {
   "cell_type": "markdown",
   "metadata": {},
   "source": [
    "__Checkpoint 3__: Sau đây là list chiều cao theo cm của các cầu thủ U23 Việt Nam theo [Kênh 14](http://kenh14.vn/tat-tan-tat-ve-profile-va-tinh-trang-moi-quan-he-cua-u23-viet-nam-cho-cac-chi-em-20180123205036088.chn):"
   ]
  },
  {
   "cell_type": "code",
   "execution_count": 50,
   "metadata": {},
   "outputs": [],
   "source": [
    "players = [\"Bùi Tiến Dũng (thủ môn)\", \"Bùi Tiến Dũng (hậu vệ)\", \"Nguyễn Trọng Đại\", \"Bùi Tiến Dụng\", \"Vũ Văn Thanh\", \n",
    "           \"Đỗ Duy Mạnh\", \"Nguyễn Quang Hải\", \"Phan Văn Đức\", \"Nguyễn Công Phượng\", \"Lương Xuân Trường\", \n",
    "           \"Đoàn Văn Hậu\", \"Nguyễn Phong Hồng Duy\", \"Trần Đình Trọng\", \"Nguyễn Văn Toàn\"]\n",
    "heights = [181, 176, 184, 176, 170, 180, 168, 170, 168, 178, 185, 168, 174, 169]"
   ]
  },
  {
   "cell_type": "markdown",
   "metadata": {},
   "source": [
    "0. Hãy biến mảng chiều cao thành dạng vector.\n",
    "1. Chiều cao trung bình của các cầu thủ là bao nhiêu cm?\n",
    "2. Cầu thủ nào là người cao nhất?"
   ]
  },
  {
   "cell_type": "code",
   "execution_count": 54,
   "metadata": {},
   "outputs": [
    {
     "name": "stdout",
     "output_type": "stream",
     "text": [
      "174.78571428571428\n",
      "Đoàn Văn Hậu\n"
     ]
    }
   ],
   "source": [
    "A = np.array(heights)\n",
    "print(A.mean())\n",
    "print(players[A.argmax()])"
   ]
  },
  {
   "cell_type": "markdown",
   "metadata": {},
   "source": [
    "# 2. Các phép toán với ma trận"
   ]
  },
  {
   "cell_type": "markdown",
   "metadata": {},
   "source": [
    "## 2.1 Norm\n",
    "Cách norm áp dụng cho ma trận thì sao?\n",
    "Norm cho ma trận được tính bằng nhiều phương pháp khác nhau, nhưng trong học máy thường ta chỉ dùng tới chuẩn norm Frobenius - tương tự như $ L^2 $ cho  vector, như sau:\n",
    "\n",
    "$$ |A|_F = \\sqrt{\\sum _{i,j}{A _{ij}^2}} $$\n",
    "\n",
    "Để thực hiện việc tính norm với Numpy, ta có thể sử dụng hàm `norm` trong gói `linalg` (gói đại số tuyến tính) như sau:"
   ]
  },
  {
   "cell_type": "code",
   "execution_count": 55,
   "metadata": {},
   "outputs": [
    {
     "name": "stdout",
     "output_type": "stream",
     "text": [
      "[[0 1 2]\n",
      " [3 4 5]]\n",
      "7.416198487095663\n"
     ]
    }
   ],
   "source": [
    "# for matrix\n",
    "v = np.arange(6)\n",
    "A = v.reshape(2, 3)\n",
    "print(A)\n",
    "# [[0 1 2]\n",
    "#  [3 4 5]]\n",
    "print(np.linalg.norm(A))\n",
    "# 7.4161984871 = sqrt(0**2 + 1**2 + 2**2 + 3**2 + 4**2 + 5**2)"
   ]
  },
  {
   "cell_type": "markdown",
   "metadata": {},
   "source": [
    "## 2.2 Tính min, max, mean, và sum \n",
    "Chúng ta đã biết cách tính các giá trị này cho vector - mảng 1 chiều. Tuy nhiên với ma trận là mảng đa chiều, chúng ta cần phải xác định phép tính theo chiều nào của ma trận."
   ]
  },
  {
   "cell_type": "code",
   "execution_count": 57,
   "metadata": {},
   "outputs": [
    {
     "name": "stdout",
     "output_type": "stream",
     "text": [
      "[[0 1 2]\n",
      " [3 4 5]]\n",
      "0\n",
      "[0 1 2]\n",
      "[0 3]\n"
     ]
    }
   ],
   "source": [
    "v = np.arange(6)\n",
    "A = v.reshape(2, 3)\n",
    "print(A)\n",
    "# [[0 1 10]\n",
    "#  [3 4 5]]\n",
    "\n",
    "# Ví dụ về min, các hàm khác sử dụng tương tự\n",
    "print(A.min())\n",
    "# 0 \n",
    "\n",
    "print(A.min(0))\n",
    "# [0 1 2]\n",
    "\n",
    "print(A.min(1))\n",
    "# [0 3]"
   ]
  },
  {
   "cell_type": "markdown",
   "metadata": {},
   "source": [
    "__Checkpoint 4__: Trong checkpoint này, chúng ta sẽ học cách load một ảnh đen trắng vào một ma trận. Trước hết, từ terminal và trong môi trường Anaconda hiện tại, cài đặt thư viện `pillow` bằng lệnh `conda install pillow`. Nếu thành công, lệnh import sau sẽ không báo lỗi:"
   ]
  },
  {
   "cell_type": "code",
   "execution_count": 58,
   "metadata": {},
   "outputs": [],
   "source": [
    "from PIL import Image"
   ]
  },
  {
   "cell_type": "markdown",
   "metadata": {},
   "source": [
    "Tiếp đó, chúng ta sẽ dùng hàm sau để load một hình ảnh vào ma trận."
   ]
  },
  {
   "cell_type": "code",
   "execution_count": 59,
   "metadata": {},
   "outputs": [],
   "source": [
    "def load_image(filename) :\n",
    "    img = Image.open(filename)\n",
    "    img.load()\n",
    "    data = np.asarray(img, dtype=\"int32\")\n",
    "    return data"
   ]
  },
  {
   "cell_type": "markdown",
   "metadata": {},
   "source": [
    "Trong thư mục `images`, các bạn sẽ thấy 2 hình ảnh `MNIST_1.png` và `MNIST_2.png` của số 1 và số 2 tương ứng, được lấy từ bộ dữ liệu chữ viết tay MNIST nổi tiếng.\n",
    "![one](./images/MNIST_1.png) ![two](./images/MNIST_2.png) \n",
    "\n",
    "Sau đây ta sẽ load hình ảnh số 1 vào array `num_one`:"
   ]
  },
  {
   "cell_type": "code",
   "execution_count": 60,
   "metadata": {},
   "outputs": [],
   "source": [
    "num_one = load_image('./images/MNIST_1.png')"
   ]
  },
  {
   "cell_type": "markdown",
   "metadata": {},
   "source": [
    "1. Tương tự, hãy load hình ảnh số 2 vào array `num_two`\n",
    "2. Đây là ma trận mấy chiều? Kích thước của từng chiều?\n",
    "3. Những điểm ảnh đen sẽ có giá trị là bao nhiêu? Tương tự với những điểm ảnh trắng?\n",
    "4. Bằng cách nhìn vào 2 hình ảnh, theo bạn ma trận nào sẽ có giá trị trung bình của các điểm ảnh lớn hơn? Bạn có thể dùng các hàm đã học ở trên để kiểm chứng không?"
   ]
  },
  {
   "cell_type": "code",
   "execution_count": 61,
   "metadata": {},
   "outputs": [],
   "source": [
    "num_two = load_image('./images/MNIST_2.png')"
   ]
  },
  {
   "cell_type": "code",
   "execution_count": 62,
   "metadata": {},
   "outputs": [
    {
     "name": "stdout",
     "output_type": "stream",
     "text": [
      "[[  0   0   0   0   0   0   0   0   0   0   0   0   0   0   0   0   0   0\n",
      "    0   0   0   0   0   0   0   0   0   0]\n",
      " [  0   0   0   0   0   0   0   0   0   0   0   0   0   0   0   0   0   0\n",
      "    0   0   0   0   0   0   0   0   0   0]\n",
      " [  0   0   0   0   0   0   0   0   0   0   0   0   0   0   0   0   0   0\n",
      "    0   0   0   0   0   0   0   0   0   0]\n",
      " [  0   0   0   0   0   0   0   0   0   0   0   0   0   0   0   0   0   0\n",
      "    0   0   0   0   0   0   0   0   0   0]\n",
      " [  0   0   0   0   0   0   0   0   0   0   0   0   0   0   0   0   0   0\n",
      "    0   0   0   0   0   0   0   0   0   0]\n",
      " [  0   0   0   0   0   0   0   0   0   0   0   1 168 242  28   0   0   0\n",
      "    0   0   0   0   0   0   0   0   0   0]\n",
      " [  0   0   0   0   0   0   0   0   0   0   0  10 228 254 100   0   0   0\n",
      "    0   0   0   0   0   0   0   0   0   0]\n",
      " [  0   0   0   0   0   0   0   0   0   0   0   0 190 254 122   0   0   0\n",
      "    0   0   0   0   0   0   0   0   0   0]\n",
      " [  0   0   0   0   0   0   0   0   0   0   0   0  83 254 162   0   0   0\n",
      "    0   0   0   0   0   0   0   0   0   0]\n",
      " [  0   0   0   0   0   0   0   0   0   0   0   0  29 254 248  25   0   0\n",
      "    0   0   0   0   0   0   0   0   0   0]\n",
      " [  0   0   0   0   0   0   0   0   0   0   0   0  29 255 254 103   0   0\n",
      "    0   0   0   0   0   0   0   0   0   0]\n",
      " [  0   0   0   0   0   0   0   0   0   0   0   0  29 254 254 109   0   0\n",
      "    0   0   0   0   0   0   0   0   0   0]\n",
      " [  0   0   0   0   0   0   0   0   0   0   0   0  29 254 254 109   0   0\n",
      "    0   0   0   0   0   0   0   0   0   0]\n",
      " [  0   0   0   0   0   0   0   0   0   0   0   0  29 254 254 109   0   0\n",
      "    0   0   0   0   0   0   0   0   0   0]\n",
      " [  0   0   0   0   0   0   0   0   0   0   0   0  29 255 254 109   0   0\n",
      "    0   0   0   0   0   0   0   0   0   0]\n",
      " [  0   0   0   0   0   0   0   0   0   0   0   0  29 254 254 109   0   0\n",
      "    0   0   0   0   0   0   0   0   0   0]\n",
      " [  0   0   0   0   0   0   0   0   0   0   0   0  29 254 254  63   0   0\n",
      "    0   0   0   0   0   0   0   0   0   0]\n",
      " [  0   0   0   0   0   0   0   0   0   0   0   0  29 254 254  28   0   0\n",
      "    0   0   0   0   0   0   0   0   0   0]\n",
      " [  0   0   0   0   0   0   0   0   0   0   0   0  29 254 254  28   0   0\n",
      "    0   0   0   0   0   0   0   0   0   0]\n",
      " [  0   0   0   0   0   0   0   0   0   0   0   0  29 254 254  35   0   0\n",
      "    0   0   0   0   0   0   0   0   0   0]\n",
      " [  0   0   0   0   0   0   0   0   0   0   0   0  29 254 254 109   0   0\n",
      "    0   0   0   0   0   0   0   0   0   0]\n",
      " [  0   0   0   0   0   0   0   0   0   0   0   0   6 212 254 109   0   0\n",
      "    0   0   0   0   0   0   0   0   0   0]\n",
      " [  0   0   0   0   0   0   0   0   0   0   0   0   0 203 254 178   0   0\n",
      "    0   0   0   0   0   0   0   0   0   0]\n",
      " [  0   0   0   0   0   0   0   0   0   0   0   0   0 155 254 190   0   0\n",
      "    0   0   0   0   0   0   0   0   0   0]\n",
      " [  0   0   0   0   0   0   0   0   0   0   0   0   0  32 199 104   0   0\n",
      "    0   0   0   0   0   0   0   0   0   0]\n",
      " [  0   0   0   0   0   0   0   0   0   0   0   0   0   0   0   0   0   0\n",
      "    0   0   0   0   0   0   0   0   0   0]\n",
      " [  0   0   0   0   0   0   0   0   0   0   0   0   0   0   0   0   0   0\n",
      "    0   0   0   0   0   0   0   0   0   0]\n",
      " [  0   0   0   0   0   0   0   0   0   0   0   0   0   0   0   0   0   0\n",
      "    0   0   0   0   0   0   0   0   0   0]]\n"
     ]
    }
   ],
   "source": [
    "print(num_one)"
   ]
  },
  {
   "cell_type": "markdown",
   "metadata": {},
   "source": [
    "# 3. Các phép toán giữa vector và ma trận"
   ]
  },
  {
   "cell_type": "markdown",
   "metadata": {},
   "source": [
    "## 3.1 Reshape\n",
    "Các mảng trong Numpy đều định quy định bằng một <span style=\"color:blue\">khung (`shape`)</span> với các chiều tương ứng với các chiều của mảng.\n",
    "Ví dụ như  vector (mảng 1 chiều) có 10 phần tử sẽ có khung là (10,),\n",
    "ma trận (mảng 2 chiều) có 5 hàng và 3 cột sẽ có khung là (5, 3).\n",
    "\n",
    "Đôi lúc ta cần biến đổi hình dạng của các mảng này cho phù hợp với bài toán của ta như biến đối mảng 1 chiều thành 2 chiều ( vector thành ma trận).\n",
    "Để làm được việc này ta có thể sử dụng phép biến hình `np.reshape(a, newshape)` của Numpy cực dễ dàng:"
   ]
  },
  {
   "cell_type": "code",
   "execution_count": 66,
   "metadata": {},
   "outputs": [
    {
     "name": "stdout",
     "output_type": "stream",
     "text": [
      "[[1. 0. 0. 0. 0.]\n",
      " [0. 1. 0. 0. 0.]\n",
      " [0. 0. 1. 0. 0.]]\n",
      "(3, 5)\n",
      "(15,)\n"
     ]
    }
   ],
   "source": [
    "# Identity matrix\n",
    "a = np.eye(3,5)\n",
    "print(a)\n",
    "print(a.shape)\n",
    "# (5, 3)\n",
    "\n",
    "# reshape matrix to a column vector\n",
    "b = a.reshape(15)\n",
    "print(b.shape)\n",
    "# (15,)"
   ]
  },
  {
   "cell_type": "markdown",
   "metadata": {},
   "source": [
    "Vậy phép biến hình `reshape` được thực hiện ra sao?\n",
    "\n",
    "Đầu tiên, số phần tử cần phải được giữ nguyên sau khi biến hình.\n",
    "Ví dụ ở trên ta có một ma trận chéo kích thước (5, 3) có số phần tử là 15, nên khi biến nó thành  vector thì  vector này cũng phải có kích thước là 15 tương ứng.\n",
    "\n",
    "Tiếp theo là cách tổ chức các phần tử khi biến hình.\n",
    "Numpy cho phép ta thực hiện biến hình với 3 kiểu sắp xếp phần tử như sau:\n",
    "\n",
    "* `C`: Cho phép ta nhặt phần tử từ mảng cũ ra theo thứ tự ngôn ngữ lập trình `C`, tức là tọa độ sau sẽ thay đổi nhanh hơn tọa độ trước. Cụ thể là phần từ phía sau của `A[1, 2]` là `A[1, 3]`. Lưu ý rằng, thứ tự này là giá trị mặc định của `reshape`.\n",
    "* `F`: Cho phép ta nhặt phần tử từ mảng cũ ra theo thứ tự ngôn ngữ lập trình `Fortran`, tức là tọa độ trước sẽ thay đổi nhanh hơn tọa độ sau. Cụ thể là phần từ phía sau của `A[0, 1]` là `A[1, 1]`\n",
    "* `A`: Cho phép ta nhặt phần từ theo kiểu `F` nếu mảng cũ của ta được tổ chức dưới dạng bộ nhớ liên tục của Fortran. Còn các trường hợp khác nó sẽ nhặt theo kiểu `C`. Lưu ý rằng, kiểu `F` và `C` chỉ đề cập tới thứ tự địa chỉ khi lập trình chứ không phải địa chỉ trong bộ nhớ máy tính.\n",
    "\n",
    "> Tổ chức dưới dạng bộ nhớ liên tục có nghĩa là thứ tự của phần tử trong mảng đúng với thứ tự liên tục trong bộ nhớ máy tính.\n",
    "Ví dụ, với `Fortran` hai phần tử `A[0, 0]` và `A[1, 0]` sẽ có địa chỉ bộ nhớ cạnh nhau theo đúng thứ tự đó, còn với `C` thì `A[0, 0]` và `A[0, 1]` sẽ có địa chỉ bộ nhớ cạnh nhau theo đúng thứ tự đó.\n",
    "Tham khảo thêm trên [StackOverflow](https://stackoverflow.com/a/26999092/3431378)."
   ]
  },
  {
   "cell_type": "code",
   "execution_count": 26,
   "metadata": {},
   "outputs": [
    {
     "data": {
      "text/plain": [
       "array([1, 2, 3, 4, 5, 6])"
      ]
     },
     "execution_count": 26,
     "metadata": {},
     "output_type": "execute_result"
    }
   ],
   "source": [
    "a = np.array([[1,2,3], [4,5,6]])\n",
    "np.reshape(a, 6, order='C')"
   ]
  },
  {
   "cell_type": "code",
   "execution_count": 68,
   "metadata": {},
   "outputs": [
    {
     "data": {
      "text/plain": [
       "array([[1, 5],\n",
       "       [4, 3],\n",
       "       [2, 6]])"
      ]
     },
     "execution_count": 68,
     "metadata": {},
     "output_type": "execute_result"
    }
   ],
   "source": [
    "a = np.array([[1,2,3], [4,5,6]])\n",
    "np.reshape(a, (3,2), order='F')"
   ]
  },
  {
   "cell_type": "markdown",
   "metadata": {},
   "source": [
    "## 3.2 Tự động mở rộng Broadcasting\n",
    "Một trong những tính năng đặc biệt của Numpy là khả năng tự mở rộng mảng (`broadcasting`), nhờ có tính năng này mà ta có thể thực hiện được các phép toán của các hàm phổ quát (universal functions).\n",
    "Khi thực hiện phép toán giữa 2 mảng *không* cùng số chiều với nhau, Numpy sẽ tự mở rộng mảng có số chiều ít hơn lên cho bằng với mảng có số chiều lớn hơn.\n",
    "Việc này được thực hiện bằng cách lặp đi lặp lại 1 số lần nào đó của mảng có số chiều nhỏ hơn cho tới khi đạt được số chiều mảng kia.\n",
    "\n",
    "Một số ví dụ cụ thể:"
   ]
  },
  {
   "cell_type": "code",
   "execution_count": 78,
   "metadata": {},
   "outputs": [
    {
     "name": "stdout",
     "output_type": "stream",
     "text": [
      "[[10  8  9]\n",
      " [ 5  6  4]]\n",
      "[[0]\n",
      " [1]]\n",
      "[[10  8  9]\n",
      " [ 6  7  5]]\n",
      "[[0 0 0]\n",
      " [5 6 4]]\n"
     ]
    }
   ],
   "source": [
    "A = np.array([(10, 8, 9), (5, 6, 4)])\n",
    "#b = np.arange(2)\n",
    "b = np.arange(2).reshape(2,1)\n",
    "print(A)\n",
    "print(b)\n",
    "# A + b or b + A\n",
    "C = b+A\n",
    "print(C)\n",
    "# [[10  9 11]\n",
    "#  [ 5  7  6]]\n",
    "\n",
    "# b * A or A * b\n",
    "C = b * A\n",
    "print(C)\n",
    "# [[ 0  8 18]\n",
    "#  [ 0  6  8]]"
   ]
  },
  {
   "cell_type": "markdown",
   "metadata": {},
   "source": [
    "<!---{{< /codeblock >}}--->\n",
    "\n",
    "Nhìn vào ví dụ trên ta có thể thấy  vector `b` đã tự động mở rộng số hàng của mình cho bằng với số hàng của ma trận `A` để thực hiện các phép toán với `A`.\n",
    "Việc mở rộng này là được áp dụng cho tất cả các hàm phổ quát của Numpy,\n",
    "tức là không chỉ 2 phép cộng và nhân phía trên ta còn thực hiện được với nhiều phép toán khác như phép chia, phép trừ, phép lấy mũ,..."
   ]
  }
 ],
 "metadata": {
  "kernelspec": {
   "display_name": "Python 3",
   "language": "python",
   "name": "python3"
  },
  "language_info": {
   "codemirror_mode": {
    "name": "ipython",
    "version": 3
   },
   "file_extension": ".py",
   "mimetype": "text/x-python",
   "name": "python",
   "nbconvert_exporter": "python",
   "pygments_lexer": "ipython3",
   "version": "3.7.1"
  }
 },
 "nbformat": 4,
 "nbformat_minor": 2
}
