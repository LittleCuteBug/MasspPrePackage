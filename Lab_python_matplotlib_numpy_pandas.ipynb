{
 "cells": [
  {
   "cell_type": "markdown",
   "metadata": {},
   "source": [
    "# Bài tập bổ trợ\n",
    "## MaSSP 2018, Computer Science"
   ]
  },
  {
   "cell_type": "markdown",
   "metadata": {},
   "source": [
    "Trong file này, các bạn sẽ vận dụng những hàm đã học trong những notebook trước vào những dữ liệu thực tế. Đáp án của những bài tập này có thể được tìm thấy ở cuối notebook, nhưng các bạn chỉ nên tham khảo sau khi đã giải và kiểm tra cẩn thận kết quả của mình. Mọi thắc mắc hay phát hiện lỗi sai, hãy post lên Facebook group: [MaSSP Tin](https://www.facebook.com/groups/183191748970952/)."
   ]
  },
  {
   "cell_type": "code",
   "execution_count": 1,
   "metadata": {},
   "outputs": [],
   "source": [
    "import matplotlib.pyplot as plt\n",
    "import numpy as np\n",
    "import pandas as pd"
   ]
  },
  {
   "cell_type": "markdown",
   "metadata": {},
   "source": [
    "## 1. Python\n",
    "Sau đây là một số bài tập giúp các bạn làm quen hơn với ngôn ngữ lập trình Python về mặt cú pháp và cơ sở dữ liệu. Nếu các bạn đã sử dụng ngôn ngữ này thành thạo có thể bỏ qua phần này."
   ]
  },
  {
   "cell_type": "markdown",
   "metadata": {},
   "source": [
    "### 1.1 Sử dụng list\n",
    "Cho một `list` sau:"
   ]
  },
  {
   "cell_type": "code",
   "execution_count": 2,
   "metadata": {},
   "outputs": [],
   "source": [
    "percents = [20.7, 19.4, 14.7, 7.6, 6.9]"
   ]
  },
  {
   "cell_type": "markdown",
   "metadata": {},
   "source": [
    "Như các bạn đã biết, các hàm `min, max` có thể được áp dụng lên `list` để tìm ra giá trị nhỏ nhất và lớn nhất của `list`."
   ]
  },
  {
   "cell_type": "code",
   "execution_count": 3,
   "metadata": {},
   "outputs": [
    {
     "name": "stdout",
     "output_type": "stream",
     "text": [
      "6.9\n"
     ]
    }
   ],
   "source": [
    "print(min(percents))"
   ]
  },
  {
   "cell_type": "markdown",
   "metadata": {},
   "source": [
    "1.1.1. Bằng cách sử dụng vòng lặp `for`, hãy viết các hàm `find_min, find_max` để tìm ra giá trị nhỏ nhất và lớn nhất của một `list`. Sau khi hoàn thiện, các bạn hãy dùng các hàm `min, max` để kiểm tra kết quả của mình."
   ]
  },
  {
   "cell_type": "code",
   "execution_count": 10,
   "metadata": {},
   "outputs": [
    {
     "name": "stdout",
     "output_type": "stream",
     "text": [
      "True\n",
      "True\n"
     ]
    }
   ],
   "source": [
    "def find_min(array):\n",
    "    Min = array[0]\n",
    "    for item in array:\n",
    "        if Min>item:\n",
    "            Min = item\n",
    "    return Min\n",
    "\n",
    "def find_max(array):\n",
    "    Max = array[0]\n",
    "    for item in array:\n",
    "        if Max<item:\n",
    "            Max = item\n",
    "    return Max\n",
    "\n",
    "\n",
    "# kiểm tra kết quả\n",
    "print (min(percents) == find_min(percents))\n",
    "print (max(percents) == find_max(percents))"
   ]
  },
  {
   "cell_type": "markdown",
   "metadata": {},
   "source": [
    "1.1.2. Tương tự, hãy dùng vòng lặp `for` để hoàn thiện hàm `find_mean` dùng để tính giá trị trung bình của một `list` các số."
   ]
  },
  {
   "cell_type": "code",
   "execution_count": 12,
   "metadata": {},
   "outputs": [
    {
     "data": {
      "text/plain": [
       "True"
      ]
     },
     "execution_count": 12,
     "metadata": {},
     "output_type": "execute_result"
    }
   ],
   "source": [
    "def find_mean(array):\n",
    "    Sum = 0.0;\n",
    "    for item in array:\n",
    "        Sum+=item\n",
    "    return Sum/len(array)\n",
    "\n",
    "# kiểm tra kết quả\n",
    "find_mean(percents) == 13.86"
   ]
  },
  {
   "cell_type": "markdown",
   "metadata": {},
   "source": [
    "Mảng `percents` chúng ta định nghĩa ở trên thực ra là phần trăm thị phần của các công ty sản xuất máy tính lớn trên thế giới vào năm 2016 (nguồn [Wikipedia](https://en.wikipedia.org/wiki/Market_share_of_personal_computer_vendors#Top_vendors_market_share_(2017)). Tên của các công ty được lưu lại trong mảng `companies`:"
   ]
  },
  {
   "cell_type": "code",
   "execution_count": 50,
   "metadata": {},
   "outputs": [],
   "source": [
    "percents = [20.7, 19.4, 14.7, 7.6, 6.9]\n",
    "companies = ['Lenovo', 'HP', 'Dell', 'Asus', 'Apple']"
   ]
  },
  {
   "cell_type": "markdown",
   "metadata": {},
   "source": [
    "1.1.3. Như các bạn để ý trong bảng số liệu trên trang Wikipedia, 5 hãng máy tính này có thị phần cao nhất, và những công ty khác chỉ chiếm 30.7% thị phần. Hãy thêm vào `percents` và `companies` lần lượt các số `30.7` và xâu 'Others'."
   ]
  },
  {
   "cell_type": "code",
   "execution_count": 16,
   "metadata": {},
   "outputs": [
    {
     "name": "stdout",
     "output_type": "stream",
     "text": [
      "[20.7, 19.4, 14.7, 7.6, 6.9, 30.7, 30.7]\n",
      "['Lenovo', 'HP', 'Dell', 'Asus', 'Apple', 'Other', 'Other']\n"
     ]
    }
   ],
   "source": [
    "# code\n",
    "percents.append(30.7)\n",
    "companies.append(\"Other\")\n",
    "print(percents)\n",
    "print(companies)"
   ]
  },
  {
   "cell_type": "markdown",
   "metadata": {},
   "source": [
    "### 1.2 Sử dụng dict\n",
    "Vị trí của tên mỗi công ty trong `companies` tương ứng với vị trí của thị phần của công ty đó trong `percents`, ví dụ 'Apple' chiếm 6.9% thị phần.\n",
    "\n",
    "1.2.1. Hãy khởi tạo một `dict` có tên `company_to_percent`, trong đó mỗi key là tên của một công ty hoặc 'Others', và value của mỗi key ứng với thị phần của công ty đó."
   ]
  },
  {
   "cell_type": "code",
   "execution_count": 24,
   "metadata": {},
   "outputs": [
    {
     "name": "stdout",
     "output_type": "stream",
     "text": [
      "{'Lenovo': 20.7, 'HP': 19.4, 'Dell': 14.7, 'Asus': 7.6, 'Apple': 6.9, 'Other': 30.7}\n"
     ]
    }
   ],
   "source": [
    "# code\n",
    "company_to_percent = {key:value for (key,value) in zip(companies,percents)}\n",
    "print(company_to_percent)"
   ]
  },
  {
   "cell_type": "markdown",
   "metadata": {},
   "source": [
    "1.2.2. Sử dụng biến `company_to_percent` ta vừa định nghĩa ở trên, hãy cho biết thị phần của công ty 'Dell'?"
   ]
  },
  {
   "cell_type": "code",
   "execution_count": 25,
   "metadata": {},
   "outputs": [
    {
     "data": {
      "text/plain": [
       "14.7"
      ]
     },
     "execution_count": 25,
     "metadata": {},
     "output_type": "execute_result"
    }
   ],
   "source": [
    "# code\n",
    "company_to_percent[\"Dell\"]\n"
   ]
  },
  {
   "cell_type": "markdown",
   "metadata": {},
   "source": [
    "1.2.3. Giả sử có sai sót trong việc thu thập dữ liệu, công ty 'Lenovo' chiếm đến 21.5% thị phần thay vì 20.7%, và công ty 'Dell' chiếm 14.5% thay vì 14.7%. Bạn hãy cập nhật lại những thông tin này trong `company_to_percent`, và nhớ là thị phần của tất cả các công ty phải bằng 100%!"
   ]
  },
  {
   "cell_type": "code",
   "execution_count": 37,
   "metadata": {},
   "outputs": [
    {
     "data": {
      "text/plain": [
       "{'Lenovo': 21.5,\n",
       " 'HP': 19.4,\n",
       " 'Dell': 14.5,\n",
       " 'Asus': 7.6,\n",
       " 'Apple': 6.9,\n",
       " 'Other': 30.09999999999999}"
      ]
     },
     "execution_count": 37,
     "metadata": {},
     "output_type": "execute_result"
    }
   ],
   "source": [
    "# code\n",
    "company_to_percent[\"Lenovo\"] = 21.5\n",
    "company_to_percent[\"Dell\"] = 14.5\n",
    "company_to_percent[\"Other\"] = 100 - sum(company_to_percent.values()) + \\\n",
    "company_to_percent[\"Other\"]\n",
    "company_to_percent\n"
   ]
  },
  {
   "cell_type": "markdown",
   "metadata": {},
   "source": [
    "## 2. Numpy và matplotlib\n",
    "Qua bài tập này, chúng ta sẽ thấy rõ lợi ích của việc sử dụng các thư viện có sẵn khi làm việc với nhiều dữ liệu. Thay vì phải viết vòng lặp, có rất nhiều hàm có sẵn trong những thư viện này giúp ta thực hiện nhanh chóng những thao tác thường gặp và dành thời gian giải quyết những vấn đề phức tạp hơn.\n",
    "\n",
    "### 2.1 Numpy\n",
    "Sau đây là 2 `list` chứa thị phần của 5 công ty trên trong năm 2016 và 2017:"
   ]
  },
  {
   "cell_type": "code",
   "execution_count": 38,
   "metadata": {},
   "outputs": [],
   "source": [
    "percents_2016 = [20.7, 19.4, 14.7, 7.6, 6.9]\n",
    "percents_2017 = [20.8, 21.0, 15.2, 6.8, 7.4]"
   ]
  },
  {
   "cell_type": "markdown",
   "metadata": {},
   "source": [
    "2.1.1. Hãy khởi tạo 2 vectors `percents_2016_array, percents_2017_array` từ 2 `list` trên."
   ]
  },
  {
   "cell_type": "code",
   "execution_count": 39,
   "metadata": {},
   "outputs": [],
   "source": [
    "percents_2016_array = np.array(percents_2016)\n",
    "percents_2017_array = np.array(percents_2017)"
   ]
  },
  {
   "cell_type": "markdown",
   "metadata": {},
   "source": [
    "2.1.2. Công ty nào bị giảm thị phần vào năm 2017? Gợi ý: dùng hàm [numpy.where](https://docs.scipy.org/doc/numpy-1.13.0/reference/generated/numpy.where.html)."
   ]
  },
  {
   "cell_type": "code",
   "execution_count": 85,
   "metadata": {},
   "outputs": [
    {
     "data": {
      "text/plain": [
       "3"
      ]
     },
     "execution_count": 85,
     "metadata": {},
     "output_type": "execute_result"
    }
   ],
   "source": [
    "np.where(percents_2016_array > percents_2017_array)[0][0]"
   ]
  },
  {
   "cell_type": "markdown",
   "metadata": {},
   "source": [
    "2.1.3. Gộp 2 vectors trên thành một array duy nhất, với hàng đầu tiên chứa thị phần năm 2016, và hàng thứ 2 chứa thị phần năm 2017."
   ]
  },
  {
   "cell_type": "code",
   "execution_count": 60,
   "metadata": {},
   "outputs": [
    {
     "data": {
      "text/plain": [
       "array([[20.7, 19.4, 14.7,  7.6,  6.9],\n",
       "       [20.8, 21. , 15.2,  6.8,  7.4]])"
      ]
     },
     "execution_count": 60,
     "metadata": {},
     "output_type": "execute_result"
    }
   ],
   "source": [
    "percents_array = np.array([percents_2016_array,percents_2017_array])\n",
    "percents_array"
   ]
  },
  {
   "cell_type": "markdown",
   "metadata": {},
   "source": [
    "2.1.4. Sử dụng hàm `numpy.mean()`, hãy trả lại các array chứa a) giá trị thị phần trung bình của cả 5 công ty trong từng năm 2016 và 2017, và b) giá trị thị phần trung bình của mỗi công ty trong 2 năm."
   ]
  },
  {
   "cell_type": "code",
   "execution_count": 65,
   "metadata": {},
   "outputs": [
    {
     "data": {
      "text/plain": [
       "array([20.75, 20.2 , 14.95,  7.2 ,  7.15])"
      ]
     },
     "execution_count": 65,
     "metadata": {},
     "output_type": "execute_result"
    }
   ],
   "source": [
    "# code\n",
    "percents_array.mean(0)"
   ]
  },
  {
   "cell_type": "markdown",
   "metadata": {},
   "source": [
    "### 2.2 Matplotlib\n",
    "Bạn hãy vẽ một đồ thị tuỳ ý dựa trên số liệu trên Wikipedia, ví dụ thị phần của công ty Apple và Lenovo qua từng năm, và hãy nhớ đồ thị cần có tên và chú thích!"
   ]
  },
  {
   "cell_type": "markdown",
   "metadata": {},
   "source": [
    "## 3. Pandas\n",
    "Khi làm bài tập, các bạn nên tham khảo các hàm thông dụng trong `cheatsheet.ipynb` và tra cứu thư viện pandas hoặc Stackoverflow khi có bug.\n",
    "\n",
    "Bộ dữ liệu sử dụng trong phần này được tải về từ trang https://dasl.datadescription.com/story/climate-change-2016/ và được chuyển hoá sang dạng `csv` (xem `climate-change-2016.csv`). Bạn hãy mở xem nội dung của tệp tin `climate-change-2016.csv` để hiểu ý nghĩa của từng cột dữ liệu.\n",
    "\n",
    "Trích dẫn từ trang web:\n",
    "> Scientists claim that changes in the mean global temperature are primarily due to changes in CO2 levels. Both trends are here from 1959 to 2016. For an alternative, the data includes the annual closing price of the Dow Jones Industrial Average. Can it predict global temperature?\n",
    "\n",
    "Tạm dịch là:\n",
    "> Các nhà khoa học cho rằng những thay đổi trong nhiệt độ trung bình toàn cầu có nguyên nhân chủ yếu do thay đổi của nồng độ CO2. Xu hướng biến đổi của cả hai thông số này từ năm 1959 đến năm 2016 được ghi lại tại đây. Dữ liệu bao gồm giá cuối năm của [Chỉ số trung bình công nghiệp Dow Jones](https://vi.wikipedia.org/wiki/Ch%E1%BB%89_s%E1%BB%91_trung_b%C3%ACnh_c%C3%B4ng_nghi%E1%BB%87p_Dow_Jones) như một cách giải thích thay thế khác. Liệu thông tin này có thể dự đoán được nhiệt độ trung bình toàn cầu?\n",
    "\n",
    "Câu hỏi ngoài lề: không nhìn vào số liệu, theo em chỉ số trung bình công nghiệp Dow Jones sẽ có mối liên hệ thế nào tới nồng độ CO2?"
   ]
  },
  {
   "cell_type": "markdown",
   "metadata": {},
   "source": [
    "### 3.1 Đọc dữ liệu\n",
    "3.1.1. Các bạn hãy load dữ liệu trong tệp tin `climate-change-2016.csv` vào biến `df`. Hãy nhớ tra cứu cheatsheet hoặc các bài giảng trước trước khi tham khảo gợi ý ở cuối notebook này!"
   ]
  },
  {
   "cell_type": "code",
   "execution_count": 77,
   "metadata": {},
   "outputs": [],
   "source": [
    "# code\n",
    "df = pd.read_csv(\"climate-change-2016.csv\")"
   ]
  },
  {
   "cell_type": "markdown",
   "metadata": {},
   "source": [
    "3.1.2. Hãy in ra 10 hàng đầu tiên và 10 hàng cuối cùng của bảng dữ liệu này. Nhìn qua các con số, bạn có nhận xét gì về xu hướng của các thông số này? (tăng hay giảm, biên độ tăng giảm lớn hay nhỏ...)"
   ]
  },
  {
   "cell_type": "code",
   "execution_count": 78,
   "metadata": {},
   "outputs": [
    {
     "name": "stdout",
     "output_type": "stream",
     "text": [
      "   year  Global_temp_anomaly  CO2(ppm)    DJIA\n",
      "0  1959               0.0596    315.97  679.36\n",
      "1  1960               0.0204    316.91  615.89\n",
      "2  1961               0.0775    317.64  731.14\n",
      "3  1962               0.0888    318.45  652.10\n",
      "4  1963               0.1068    318.99  762.95\n",
      "5  1964              -0.1495    319.62  874.13\n",
      "6  1965              -0.0780    320.04  969.26\n",
      "7  1966              -0.0227    321.38  785.69\n",
      "8  1967              -0.0131    322.16  905.11\n",
      "9  1968              -0.0296    323.04  943.75\n",
      "    year  Global_temp_anomaly  CO2(ppm)      DJIA\n",
      "53  2012               0.6240    393.85  13104.10\n",
      "54  2013               0.6679    396.52  16576.66\n",
      "55  2014               0.7408    398.65  17823.07\n",
      "56  2015               0.8998    400.83  17425.03\n",
      "57  2016               0.9363    404.21  19762.60\n"
     ]
    }
   ],
   "source": [
    "# code\n",
    "print(df.head(10))\n",
    "print(df.tail(5))"
   ]
  },
  {
   "cell_type": "markdown",
   "metadata": {},
   "source": [
    "3.1.3. Trong bảng dữ liệu này có năm nào không có hoặc thiếu dữ liệu không?"
   ]
  },
  {
   "cell_type": "code",
   "execution_count": 79,
   "metadata": {},
   "outputs": [
    {
     "name": "stdout",
     "output_type": "stream",
     "text": [
      "<class 'pandas.core.frame.DataFrame'>\n",
      "RangeIndex: 58 entries, 0 to 57\n",
      "Data columns (total 4 columns):\n",
      "year                   58 non-null int64\n",
      "Global_temp_anomaly    58 non-null float64\n",
      "CO2(ppm)               58 non-null float64\n",
      "DJIA                   58 non-null float64\n",
      "dtypes: float64(3), int64(1)\n",
      "memory usage: 1.9 KB\n"
     ]
    }
   ],
   "source": [
    "# code\n",
    "df.info()"
   ]
  },
  {
   "cell_type": "markdown",
   "metadata": {},
   "source": [
    "### 3.2 Minh hoạ dữ liệu trong Pandas\n",
    "3.2.1 Trong bài giảng về pandas, chúng ta đã học cách vẽ đồ thị từ DataFrame, trong đó mỗi cột dữ liệu được biểu diễn bằng một đường. Hãy sử dụng phương pháp đó để vẽ đồ thị biến thiên của các cột theo thời gian."
   ]
  },
  {
   "cell_type": "code",
   "execution_count": 81,
   "metadata": {},
   "outputs": [
    {
     "data": {
      "text/plain": [
       "<matplotlib.axes._subplots.AxesSubplot at 0x11d5789e8>"
      ]
     },
     "execution_count": 81,
     "metadata": {},
     "output_type": "execute_result"
    },
    {
     "data": {
      "image/png": "[encoded data removed]",
      "text/plain": [
       "<Figure size 432x288 with 1 Axes>"
      ]
     },
     "metadata": {
      "needs_background": "light"
     },
     "output_type": "display_data"
    }
   ],
   "source": [
    "# code\n",
    "df.plot()"
   ]
  },
  {
   "cell_type": "markdown",
   "metadata": {},
   "source": [
    "Bạn có nhận xét gì khi vẽ các chỉ số này trên cùng một đồ thị? Chú ý đến độ lớn và đơn vị của từng chỉ số.\n",
    "\n",
    "Có thể thấy rằng biên độ của nhiệt độ là không lớn, chỉ khoảng 1 độ, trong khi biên độ của chỉ số CO2 theo phần triệu là khoảng 100, và biên độ của chỉ số DJIA còn tới hàng chục nghìn. Khi thể hiện những chỉ số này trên cùng một đồ thị, ta rất dễ ngộ nhận rằng chúng không có mối liên hệ nào vì biên độ nhiệt độ trông giống như được giữ nguyên. Các bạn hãy đón xem các bài giảng tiếp theo để học các phương pháp xác định mối liên hệ giữa các thông số này nhé!\n",
    "\n",
    "Một lần nữa, tất cả thắc mắc, phát hiện lỗi sai, xin chia sẻ lên [Facebook group nhóm Tin học](https://www.facebook.com/groups/183191748970952/)."
   ]
  },
  {
   "cell_type": "markdown",
   "metadata": {},
   "source": [
    "### 3.3 Bài tập nâng cao\n"
   ]
  },
  {
   "cell_type": "markdown",
   "metadata": {},
   "source": [
    "Nếu có thời gian và không muốn đợi đến chương trình MaSSP, các bạn hãy tìm hiểu thêm các hàm hữu ích khác và cũng phức tạp hơn trong pandas như `groupby`, `size`, `agg` để thực hiện được nhiều thao tác hơn, ví dụ để trả lời một số câu hỏi liên quan đến thống kê trong [bộ quiz về các thế vận hội Olympics](https://www.theguardian.com/sport/2016/aug/05/rio-2016-big-olympics-quiz-games). Dữ liệu cần thiết đã có sẵn trong `medalists_1896_to_2008.csv`, chứa thông tin các thành phố đăng cai, năm diễn ra Olympics, tên các vận động viên, các môn thể thao, và loại huy chương từ năm 1896 đến 2008. Bạn có thể dùng các công cụ đã học để trả lời bộ quiz này không?"
   ]
  },
  {
   "cell_type": "markdown",
   "metadata": {},
   "source": [
    "# Gợi ý\n",
    "Đây chỉ là gợi ý cách làm, có thể có những cách ngắn gọn hơn. Nếu bạn tìm thấy lỗi sai hoặc có cách làm ngắn gọn hơn, hãy chia sẻ lên Facebook group!"
   ]
  },
  {
   "cell_type": "markdown",
   "metadata": {},
   "source": [
    "### 1. Python"
   ]
  },
  {
   "cell_type": "code",
   "execution_count": 50,
   "metadata": {},
   "outputs": [],
   "source": [
    "# 1.1.1\n",
    "def find_min(array):\n",
    "    min_value = None\n",
    "    for elt in array:\n",
    "        if not min_value or elt < min_value:\n",
    "            min_value = elt\n",
    "    return min_value\n",
    "\n",
    "def find_max(array):\n",
    "    max_value = None\n",
    "    for elt in array:\n",
    "        if not max_value or elt > max_value:\n",
    "            max_value = elt\n",
    "    return max_value"
   ]
  },
  {
   "cell_type": "code",
   "execution_count": 54,
   "metadata": {},
   "outputs": [],
   "source": [
    "# 1.1.2\n",
    "# sử dụng hàm sum\n",
    "def find_mean(array):\n",
    "    if len(array) == 0:\n",
    "        return None\n",
    "    return sum(array) / len(array)\n",
    "\n",
    "# không sử dụng hàm sum\n",
    "def find_mean(array):\n",
    "    if len(array) == 0:\n",
    "        return None\n",
    "    sum_value = 0\n",
    "    for elt in array:\n",
    "        sum_value += elt\n",
    "    return elt / len(array)"
   ]
  },
  {
   "cell_type": "code",
   "execution_count": 55,
   "metadata": {
    "collapsed": true
   },
   "outputs": [],
   "source": [
    "# 1.1.3\n",
    "percents = [20.7, 19.4, 14.7, 7.6, 6.9]\n",
    "companies = ['Lenovo', 'HP', 'Dell', 'Asus', 'Apple']\n",
    "percents.append(30.7)\n",
    "companies.append('Others')"
   ]
  },
  {
   "cell_type": "code",
   "execution_count": 57,
   "metadata": {},
   "outputs": [
    {
     "data": {
      "text/plain": [
       "{'Apple': 6.9,\n",
       " 'Asus': 7.6,\n",
       " 'Dell': 14.7,\n",
       " 'HP': 19.4,\n",
       " 'Lenovo': 20.7,\n",
       " 'Others': 30.7}"
      ]
     },
     "execution_count": 57,
     "metadata": {},
     "output_type": "execute_result"
    }
   ],
   "source": [
    "# 1.2.1\n",
    "company_to_percent = { companies[i]:percents[i] for i in range(len(percents)) }\n",
    "company_to_percent"
   ]
  },
  {
   "cell_type": "code",
   "execution_count": 58,
   "metadata": {},
   "outputs": [
    {
     "data": {
      "text/plain": [
       "14.7"
      ]
     },
     "execution_count": 58,
     "metadata": {},
     "output_type": "execute_result"
    }
   ],
   "source": [
    "# 1.2.2\n",
    "company_to_percent['Dell']"
   ]
  },
  {
   "cell_type": "code",
   "execution_count": 61,
   "metadata": {},
   "outputs": [
    {
     "data": {
      "text/plain": [
       "{'Apple': 6.9,\n",
       " 'Asus': 7.6,\n",
       " 'Dell': 14.5,\n",
       " 'HP': 19.4,\n",
       " 'Lenovo': 21.5,\n",
       " 'Others': 30.099999999999994}"
      ]
     },
     "execution_count": 61,
     "metadata": {},
     "output_type": "execute_result"
    }
   ],
   "source": [
    "# 1.2.3\n",
    "company_to_percent['Dell'] = 14.5\n",
    "company_to_percent['Lenovo'] = 21.5\n",
    "sum_without_others = 0\n",
    "for company in company_to_percent:\n",
    "    if company != 'Others':\n",
    "        sum_without_others += company_to_percent[company]\n",
    "company_to_percent['Others'] = 100 - sum_without_others\n",
    "company_to_percent"
   ]
  },
  {
   "cell_type": "markdown",
   "metadata": {},
   "source": [
    "## 2. Numpy và matplotlib"
   ]
  },
  {
   "cell_type": "code",
   "execution_count": 62,
   "metadata": {},
   "outputs": [],
   "source": [
    "# 2.1.1\n",
    "percents_2016_array = np.array(percents_2016)\n",
    "percents_2017_array = np.array(percents_2017)"
   ]
  },
  {
   "cell_type": "code",
   "execution_count": 64,
   "metadata": {},
   "outputs": [
    {
     "name": "stdout",
     "output_type": "stream",
     "text": [
      "[ 0.1  1.6  0.5 -0.8  0.5]\n"
     ]
    },
    {
     "data": {
      "text/plain": [
       "3"
      ]
     },
     "execution_count": 64,
     "metadata": {},
     "output_type": "execute_result"
    }
   ],
   "source": [
    "# 2.1.2\n",
    "diff_percents_array = percents_2017_array - percents_2016_array\n",
    "print(diff_percents_array)\n",
    "np.where(diff_percents_array < 0)[0][0]"
   ]
  },
  {
   "cell_type": "code",
   "execution_count": 65,
   "metadata": {},
   "outputs": [
    {
     "data": {
      "text/plain": [
       "array([[ 20.7,  19.4,  14.7,   7.6,   6.9],\n",
       "       [ 20.8,  21. ,  15.2,   6.8,   7.4]])"
      ]
     },
     "execution_count": 65,
     "metadata": {},
     "output_type": "execute_result"
    }
   ],
   "source": [
    "# 2.1.3\n",
    "percents_array = np.array([percents_2016_array, percents_2017_array])\n",
    "percents_array"
   ]
  },
  {
   "cell_type": "code",
   "execution_count": 67,
   "metadata": {},
   "outputs": [
    {
     "name": "stdout",
     "output_type": "stream",
     "text": [
      "[ 20.75  20.2   14.95   7.2    7.15]\n",
      "[ 13.86  14.24]\n"
     ]
    }
   ],
   "source": [
    "# 2.1.4\n",
    "print(np.mean(percents_array, axis=0))\n",
    "print(np.mean(percents_array, axis=1))"
   ]
  },
  {
   "cell_type": "code",
   "execution_count": 89,
   "metadata": {},
   "outputs": [
    {
     "data": {
      "image/png": "[encoded data removed]",
      "text/plain": [
       "<Figure size 432x288 with 1 Axes>"
      ]
     },
     "metadata": {
      "needs_background": "light"
     },
     "output_type": "display_data"
    }
   ],
   "source": [
    "# 2.2\n",
    "# Phỏng theo https://matplotlib.org/gallery/api/barchart.html \n",
    "companies = ['Lenovo', 'HP', 'Dell', 'Asus', 'Apple']\n",
    "percents_array = np.array([percents_2016_array, percents_2017_array])\n",
    "\n",
    "ind = np.arange(len(companies))  # the x locations for the groups\n",
    "width = 0.35  # the width of the bars\n",
    "\n",
    "fig, ax = plt.subplots()\n",
    "ax.bar(ind - width/2, percents_array[0], width, color='SkyBlue', label='2016')\n",
    "ax.bar(ind + width/2, percents_array[1], width,color='IndianRed', label='2017')\n",
    "\n",
    "# Add some text for labels, title and custom x-axis tick labels, etc.\n",
    "ax.set_ylabel('Thị phần (%)')\n",
    "ax.set_title('Thị phần máy tính cá nhân của Lenovo, HP, Dell, Asus, Apple')\n",
    "ax.set_xticks(ind)\n",
    "ax.set_xticklabels(companies)\n",
    "ax.legend()\n",
    "plt.show()"
   ]
  },
  {
   "cell_type": "markdown",
   "metadata": {},
   "source": [
    "## 3. Pandas\n"
   ]
  },
  {
   "cell_type": "code",
   "execution_count": 15,
   "metadata": {
    "collapsed": true
   },
   "outputs": [],
   "source": [
    "# 3.1.1\n",
    "df = pd.read_csv('climate-change-2016.csv')"
   ]
  },
  {
   "cell_type": "code",
   "execution_count": null,
   "metadata": {
    "scrolled": true
   },
   "outputs": [],
   "source": [
    "# 3.1.2\n",
    "df.head(10)\n",
    "df.tail(10)"
   ]
  },
  {
   "cell_type": "code",
   "execution_count": 24,
   "metadata": {
    "scrolled": true
   },
   "outputs": [
    {
     "name": "stdout",
     "output_type": "stream",
     "text": [
      "<class 'pandas.core.frame.DataFrame'>\n",
      "RangeIndex: 58 entries, 0 to 57\n",
      "Data columns (total 4 columns):\n",
      "year                   58 non-null int64\n",
      "Global_temp_anomaly    58 non-null float64\n",
      "CO2(ppm)               58 non-null float64\n",
      "DJIA                   58 non-null float64\n",
      "dtypes: float64(3), int64(1)\n",
      "memory usage: 1.9 KB\n"
     ]
    }
   ],
   "source": [
    "# 3.1.3\n",
    "df.info()"
   ]
  },
  {
   "cell_type": "code",
   "execution_count": 18,
   "metadata": {},
   "outputs": [
    {
     "data": {
      "image/png": "[encoded data removed]",
      "text/plain": [
       "<matplotlib.figure.Figure at 0x10f72cf28>"
      ]
     },
     "metadata": {},
     "output_type": "display_data"
    }
   ],
   "source": [
    "# 3.2.1\n",
    "df.plot(x='year', y='Global_temp_anomaly')\n",
    "plt.show()"
   ]
  },
  {
   "cell_type": "code",
   "execution_count": 92,
   "metadata": {},
   "outputs": [
    {
     "data": {
      "text/html": [
       "<div>\n",
       "<style>\n",
       "    .dataframe thead tr:only-child th {\n",
       "        text-align: right;\n",
       "    }\n",
       "\n",
       "    .dataframe thead th {\n",
       "        text-align: left;\n",
       "    }\n",
       "\n",
       "    .dataframe tbody tr th {\n",
       "        vertical-align: top;\n",
       "    }\n",
       "</style>\n",
       "<table border=\"1\" class=\"dataframe\">\n",
       "  <thead>\n",
       "    <tr style=\"text-align: right;\">\n",
       "      <th></th>\n",
       "      <th>year</th>\n",
       "      <th>Global_temp_anomaly</th>\n",
       "      <th>CO2(ppm)</th>\n",
       "      <th>DJIA</th>\n",
       "    </tr>\n",
       "  </thead>\n",
       "  <tbody>\n",
       "    <tr>\n",
       "      <th>0</th>\n",
       "      <td>1959</td>\n",
       "      <td>0.0596</td>\n",
       "      <td>315.97</td>\n",
       "      <td>679.36</td>\n",
       "    </tr>\n",
       "    <tr>\n",
       "      <th>5</th>\n",
       "      <td>1964</td>\n",
       "      <td>-0.1495</td>\n",
       "      <td>319.62</td>\n",
       "      <td>874.13</td>\n",
       "    </tr>\n",
       "    <tr>\n",
       "      <th>10</th>\n",
       "      <td>1969</td>\n",
       "      <td>0.0929</td>\n",
       "      <td>324.62</td>\n",
       "      <td>800.36</td>\n",
       "    </tr>\n",
       "    <tr>\n",
       "      <th>15</th>\n",
       "      <td>1974</td>\n",
       "      <td>-0.0719</td>\n",
       "      <td>330.18</td>\n",
       "      <td>616.24</td>\n",
       "    </tr>\n",
       "    <tr>\n",
       "      <th>20</th>\n",
       "      <td>1979</td>\n",
       "      <td>0.2273</td>\n",
       "      <td>336.84</td>\n",
       "      <td>838.74</td>\n",
       "    </tr>\n",
       "    <tr>\n",
       "      <th>25</th>\n",
       "      <td>1984</td>\n",
       "      <td>0.1490</td>\n",
       "      <td>344.65</td>\n",
       "      <td>1211.57</td>\n",
       "    </tr>\n",
       "    <tr>\n",
       "      <th>30</th>\n",
       "      <td>1989</td>\n",
       "      <td>0.2970</td>\n",
       "      <td>353.12</td>\n",
       "      <td>2753.20</td>\n",
       "    </tr>\n",
       "    <tr>\n",
       "      <th>35</th>\n",
       "      <td>1994</td>\n",
       "      <td>0.3409</td>\n",
       "      <td>358.83</td>\n",
       "      <td>3833.40</td>\n",
       "    </tr>\n",
       "    <tr>\n",
       "      <th>40</th>\n",
       "      <td>1999</td>\n",
       "      <td>0.4438</td>\n",
       "      <td>368.38</td>\n",
       "      <td>11497.10</td>\n",
       "    </tr>\n",
       "    <tr>\n",
       "      <th>45</th>\n",
       "      <td>2004</td>\n",
       "      <td>0.5783</td>\n",
       "      <td>377.52</td>\n",
       "      <td>10783.00</td>\n",
       "    </tr>\n",
       "    <tr>\n",
       "      <th>50</th>\n",
       "      <td>2009</td>\n",
       "      <td>0.6367</td>\n",
       "      <td>387.43</td>\n",
       "      <td>10428.10</td>\n",
       "    </tr>\n",
       "    <tr>\n",
       "      <th>55</th>\n",
       "      <td>2014</td>\n",
       "      <td>0.7408</td>\n",
       "      <td>398.65</td>\n",
       "      <td>17823.07</td>\n",
       "    </tr>\n",
       "  </tbody>\n",
       "</table>\n",
       "</div>"
      ],
      "text/plain": [
       "    year  Global_temp_anomaly  CO2(ppm)      DJIA\n",
       "0   1959               0.0596    315.97    679.36\n",
       "5   1964              -0.1495    319.62    874.13\n",
       "10  1969               0.0929    324.62    800.36\n",
       "15  1974              -0.0719    330.18    616.24\n",
       "20  1979               0.2273    336.84    838.74\n",
       "25  1984               0.1490    344.65   1211.57\n",
       "30  1989               0.2970    353.12   2753.20\n",
       "35  1994               0.3409    358.83   3833.40\n",
       "40  1999               0.4438    368.38  11497.10\n",
       "45  2004               0.5783    377.52  10783.00\n",
       "50  2009               0.6367    387.43  10428.10\n",
       "55  2014               0.7408    398.65  17823.07"
      ]
     },
     "execution_count": 92,
     "metadata": {},
     "output_type": "execute_result"
    }
   ],
   "source": [
    "df5 = df[::5]\n",
    "df5"
   ]
  },
  {
   "cell_type": "code",
   "execution_count": 93,
   "metadata": {},
   "outputs": [
    {
     "data": {
      "image/png": "[encoded data removed]",
      "text/plain": [
       "<matplotlib.figure.Figure at 0x110c91f60>"
      ]
     },
     "metadata": {},
     "output_type": "display_data"
    }
   ],
   "source": [
    "df5.Global_temp_anomaly.plot(kind='barh')\n",
    "plt.show()"
   ]
  }
 ],
 "metadata": {
  "kernelspec": {
   "display_name": "Python 3",
   "language": "python",
   "name": "python3"
  },
  "language_info": {
   "codemirror_mode": {
    "name": "ipython",
    "version": 3
   },
   "file_extension": ".py",
   "mimetype": "text/x-python",
   "name": "python",
   "nbconvert_exporter": "python",
   "pygments_lexer": "ipython3",
   "version": "3.7.1"
  }
 },
 "nbformat": 4,
 "nbformat_minor": 2
}
